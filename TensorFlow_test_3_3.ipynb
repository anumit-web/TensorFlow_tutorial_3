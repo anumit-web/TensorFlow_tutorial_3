{
  "nbformat": 4,
  "nbformat_minor": 0,
  "metadata": {
    "colab": {
      "provenance": []
    },
    "kernelspec": {
      "name": "python3",
      "display_name": "Python 3"
    },
    "language_info": {
      "name": "python"
    }
  },
  "cells": [
    {
      "cell_type": "markdown",
      "source": [
        "### Seaborn\n",
        "\n",
        "Python visualization library\n",
        "\n",
        "The Ultimate Python Seaborn Tutorial: Gotta Catch 'Em All\n",
        "\n",
        "https://elitedatascience.com/python-seaborn-tutorial"
      ],
      "metadata": {
        "id": "Oddud14LnY0w"
      }
    }
  ]
}